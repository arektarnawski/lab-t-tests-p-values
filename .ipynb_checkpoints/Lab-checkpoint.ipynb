{
 "cells": [
  {
   "cell_type": "markdown",
   "id": "dbb44fb4-9c24-47e7-951c-16429ab9c105",
   "metadata": {},
   "source": [
    "One tailed t-test - In a packing plant, a machine packs cartons with jars. It is supposed that a new machine will pack faster on the average than the machine currently used. To test that hypothesis, the times it takes each machine to pack ten cartons are recorded. The results, in seconds, are shown in the tables in the file files_for_lab/machine.txt. Assume that there is sufficient evidence to conduct the t test, does the data provide sufficient evidence to show if one machine is better than the other?"
   ]
  },
  {
   "cell_type": "code",
   "execution_count": 26,
   "id": "68692a8f-de6b-4499-8c85-6daf1bbbd31f",
   "metadata": {},
   "outputs": [
    {
     "name": "stdout",
     "output_type": "stream",
     "text": [
      "New machine: 42.1\n",
      "Old machine: 43.2\n"
     ]
    }
   ],
   "source": [
    "import pandas as pd\n",
    "import scipy.stats as st\n",
    "\n",
    "data = pd.read_csv('machine.txt', encoding = 'utf_16')\n",
    "\n",
    "# H0: No difference between the machines\n",
    "# H1: There is difference between the machines\n",
    "\n",
    "st.ttest_ind(data['New machine'], data['Old machine'], equal_var=False)\n",
    "\n",
    "# p is small, H0 must go. We can say that one machine is better than the other\n",
    "# mu_new machine < \\mu_old_machine, which means new machine is faster\n",
    "\n",
    "# Just for reference, the sample means:\n",
    "print('New machine:',round(data['New machine'].mean(),1))\n",
    "print('Old machine:',round(data['Old machine'].mean(),1))"
   ]
  },
  {
   "cell_type": "markdown",
   "id": "7fac9ba1-5c32-49b8-8076-78415c9b21a3",
   "metadata": {},
   "source": [
    "Matched Pairs Test - In this challenge we will compare dependent samples of data describing our Pokemon (file files_for_lab/pokemon.csv). Our goal is to see whether there is a significant difference between each Pokemon's defense and attack scores. Our hypothesis is that the defense and attack scores are equal. Compare the two columns to see if there is a statistically significant difference between them and comment your result."
   ]
  },
  {
   "cell_type": "code",
   "execution_count": 33,
   "id": "315bb03b-26ee-4cea-ae39-97608ddcd70c",
   "metadata": {},
   "outputs": [
    {
     "name": "stdout",
     "output_type": "stream",
     "text": [
      "Attack: 79.0\n",
      "Defense: 73.8\n"
     ]
    }
   ],
   "source": [
    "data = pd.read_csv('pokemon.csv')\n",
    "\n",
    "# H0: Attack and defense are not equal\n",
    "# H1: Attack and defense are equal\n",
    "\n",
    "st.ttest_rel(data['Attack'], data['Defense'])\n",
    "\n",
    "# p is small, H0 must go. We can say that defense and attack for a pokemon are equal\n",
    "\n",
    "# Just for reference, the sample means:\n",
    "print('Attack:',round(data['Attack'].mean(),1))\n",
    "print('Defense:',round(data['Defense'].mean(),1))"
   ]
  },
  {
   "cell_type": "markdown",
   "id": "1c388908-8ea6-4807-a9b6-59a0c732bde7",
   "metadata": {},
   "source": [
    "In this activity, we will look at another example. Your task is to understand the problem and write down all the steps to set up ANOVA. After the next lesson, we will ask you to solve this problem using Python. Here are the steps that you would need to work on: - Null hypothesis - Alternate hypothesis - Level of significance - Test statistic - P-value - F table\n",
    "\n",
    "Context\n",
    "Suppose you are working as an analyst in a microprocessor chip manufacturing plant. You have been given the task of analyzing a plasma etching process with respect to changing Power (in Watts) of the plasma beam. Data was collected and provided to you to conduct statistical analysis and check if changing the power of the plasma beam has any effect on the etching rate by the machine. You will conduct ANOVA and check if there is any difference in the mean etching rate for different levels of power. You can find the data anova_lab_data.xlsx file in the files_for_lab folder\n",
    "\n",
    "State the null hypothesis\n",
    "State the alternate hypothesis\n",
    "What is the significance level\n",
    "What are the degrees of freedom of model, error terms, and total DoF\n",
    "Data was collected randomly and provided to you in the table as shown"
   ]
  },
  {
   "cell_type": "code",
   "execution_count": 54,
   "id": "113b54e9-5f0f-4683-8311-a8bda6c12e2c",
   "metadata": {},
   "outputs": [
    {
     "name": "stdout",
     "output_type": "stream",
     "text": [
      "160 W: 5.8\n",
      "180 W: 6.2\n",
      "200 W: 8.3\n"
     ]
    }
   ],
   "source": [
    "data = pd.read_excel('anova_lab_data.xlsx', engine='openpyxl')\n",
    "\n",
    "data['observations'] = data.groupby('Power ').cumcount() ##is the new index \n",
    "\n",
    "data_pivot = data.pivot(index = 'observations', columns='Power ', values='Etching Rate')\n",
    "\n",
    "# H0: means are the same for all groups\n",
    "# H1: means are not the same\n",
    "\n",
    "st.f_oneway(data_pivot['160 W'],data_pivot['180 W'],data_pivot['200 W'])\n",
    "\n",
    "# p is small, H0 must go. We can say that means are not the same for the groups\n",
    "\n",
    "# Just for reference, the sample means:\n",
    "print('160 W:',round(data['Etching Rate'][data['Power '] == '160 W'].mean(),1))\n",
    "print('180 W:',round(data['Etching Rate'][data['Power '] == '180 W'].mean(),1))\n",
    "print('200 W:',round(data['Etching Rate'][data['Power '] == '200 W'].mean(),1))"
   ]
  }
 ],
 "metadata": {
  "kernelspec": {
   "display_name": "Python 3 (ipykernel)",
   "language": "python",
   "name": "python3"
  },
  "language_info": {
   "codemirror_mode": {
    "name": "ipython",
    "version": 3
   },
   "file_extension": ".py",
   "mimetype": "text/x-python",
   "name": "python",
   "nbconvert_exporter": "python",
   "pygments_lexer": "ipython3",
   "version": "3.8.8"
  }
 },
 "nbformat": 4,
 "nbformat_minor": 5
}
